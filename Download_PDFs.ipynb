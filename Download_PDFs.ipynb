{
  "nbformat": 4,
  "nbformat_minor": 0,
  "metadata": {
    "colab": {
      "name": "Download_PDFs",
      "provenance": [],
      "authorship_tag": "ABX9TyPKVtMiQfsPbvL4sYFNIo5G",
      "include_colab_link": true
    },
    "kernelspec": {
      "name": "python3",
      "display_name": "Python 3"
    },
    "language_info": {
      "name": "python"
    },
    "accelerator": "GPU",
    "gpuClass": "standard"
  },
  "cells": [
    {
      "cell_type": "markdown",
      "metadata": {
        "id": "view-in-github",
        "colab_type": "text"
      },
      "source": [
        "<a href=\"https://colab.research.google.com/github/GeorMurk/download_pdfs/blob/main/Download_PDFs.ipynb\" target=\"_parent\"><img src=\"https://colab.research.google.com/assets/colab-badge.svg\" alt=\"Open In Colab\"/></a>"
      ]
    },
    {
      "cell_type": "markdown",
      "source": [
        "# Download PDF books from Internet\n",
        "---"
      ],
      "metadata": {
        "id": "Mt3yXpxy3Ipc"
      }
    },
    {
      "cell_type": "markdown",
      "source": [
        "**Download Library**"
      ],
      "metadata": {
        "id": "A_GPL43u3Agc"
      }
    },
    {
      "cell_type": "code",
      "source": [
        "!pip install urllib3"
      ],
      "metadata": {
        "colab": {
          "base_uri": "https://localhost:8080/"
        },
        "id": "sA3jpfkT28Ik",
        "outputId": "f8c0c120-32c6-4700-9858-1585264a7f09"
      },
      "execution_count": 2,
      "outputs": [
        {
          "output_type": "stream",
          "name": "stdout",
          "text": [
            "Looking in indexes: https://pypi.org/simple, https://us-python.pkg.dev/colab-wheels/public/simple/\n",
            "Requirement already satisfied: urllib3 in /usr/local/lib/python3.7/dist-packages (1.24.3)\n"
          ]
        }
      ]
    },
    {
      "cell_type": "markdown",
      "source": [
        "Import Library"
      ],
      "metadata": {
        "id": "u0bY2PuR3Xl9"
      }
    },
    {
      "cell_type": "code",
      "source": [
        "import urllib.request"
      ],
      "metadata": {
        "id": "TtUHkWKZ3Z_Y"
      },
      "execution_count": 3,
      "outputs": []
    },
    {
      "cell_type": "markdown",
      "source": [
        "Text Input"
      ],
      "metadata": {
        "id": "5U7vFXxi3bHh"
      }
    },
    {
      "cell_type": "code",
      "execution_count": 5,
      "metadata": {
        "colab": {
          "base_uri": "https://localhost:8080/"
        },
        "id": "0HbXRbyu2zOG",
        "outputId": "cb97064d-2c73-4ee2-a312-1d2edf07f471"
      },
      "outputs": [
        {
          "name": "stdout",
          "output_type": "stream",
          "text": [
            "Enter Link to Download PDF:https://books.google.co.ke/books?id=FzVjBgAAQBAJ&dq=the+alchemist&hl=en&sa=X&ved=2ahUKEwiEgYvT2Nf5AhWW44UKHQYtAcEQ6AF6BAgIEAI\n",
            "EnteraName for the PDF File:The Alchemist\n"
          ]
        },
        {
          "output_type": "execute_result",
          "data": {
            "text/plain": [
              "('The Alchemist.pdf', <http.client.HTTPMessage at 0x7f6865e7aa50>)"
            ]
          },
          "metadata": {},
          "execution_count": 5
        }
      ],
      "source": [
        "url=input(\"Enter Link to Download PDF:\")\n",
        "Name=input(\"EnteraName for the PDF File:\")\n",
        "FileName=Name+\".pdf\"\n",
        "urllib.request.urlretrieve(url,FileName)"
      ]
    },
    {
      "cell_type": "code",
      "source": [
        ""
      ],
      "metadata": {
        "id": "g6LUfmH53_Te"
      },
      "execution_count": null,
      "outputs": []
    }
  ]
}